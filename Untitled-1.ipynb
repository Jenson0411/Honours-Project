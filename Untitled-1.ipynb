{
  "cells": [
    {
      "cell_type": "markdown",
      "source": [
        "## Setting up enviroment"
      ],
      "metadata": {
        "id": "SectxFi5-8RS"
      }
    },
    {
      "cell_type": "code",
      "source": [
        "from google.colab import drive\n",
        "drive.mount('/content/drive')"
      ],
      "metadata": {
        "id": "YUD8i70m_vzI",
        "outputId": "28cf7d46-a392-44f0-aa32-06dba0f01394",
        "colab": {
          "base_uri": "https://localhost:8080/"
        }
      },
      "execution_count": 1,
      "outputs": [
        {
          "output_type": "stream",
          "name": "stdout",
          "text": [
            "Mounted at /content/drive\n"
          ]
        }
      ]
    },
    {
      "cell_type": "code",
      "execution_count": 2,
      "metadata": {
        "id": "tnm_hwZ3-xzj"
      },
      "outputs": [],
      "source": [
        "import pandas as pd\n",
        "import matplotlib.pyplot as plt\n",
        "import re, string, nltk\n",
        "from nltk.corpus import stopwords\n",
        "from nltk import pos_tag\n",
        "from nltk.corpus import wordnet\n",
        "import numpy as np\n",
        "from gensim.utils import simple_preprocess\n",
        "from gensim.models import Word2Vec\n",
        "import glob\n",
        "import os\n",
        "import string"
      ]
    },
    {
      "cell_type": "markdown",
      "source": [
        "## Generating Dataset"
      ],
      "metadata": {
        "id": "5Tsmt2UKA-fY"
      }
    },
    {
      "cell_type": "code",
      "source": [
        "csv_files = glob.glob(os.path.join('/content/drive/MyDrive/CSI4900: Honours Project/Amazon Reviews', \"*.csv\"))\n",
        "\n",
        "# Initialize an empty list to hold each DataFrame\n",
        "df_list = []\n",
        "\n",
        "# Loop through each CSV file and read it into a DataFrame, then append to list\n",
        "for file in csv_files:\n",
        "    df = pd.read_csv(file)\n",
        "    df_list.append(df)\n",
        "\n",
        "amazon_review_df = pd.concat(df_list, ignore_index=True)"
      ],
      "metadata": {
        "id": "B7WoCi0kAGQ3"
      },
      "execution_count": 3,
      "outputs": []
    },
    {
      "cell_type": "code",
      "execution_count": 4,
      "metadata": {
        "id": "7EjhYxlY-xzl",
        "outputId": "26858666-0a49-44dc-8535-b14af65b3558",
        "colab": {
          "base_uri": "https://localhost:8080/",
          "height": 990
        }
      },
      "outputs": [
        {
          "output_type": "execute_result",
          "data": {
            "text/plain": [
              "   rating                                      title  \\\n",
              "0     5.0  Such a lovely scent but not overpowering.   \n",
              "1     4.0     Works great but smells a little weird.   \n",
              "2     5.0                                       Yes!   \n",
              "3     1.0                          Synthetic feeling   \n",
              "4     5.0                                         A+   \n",
              "5     4.0                               Pretty Color   \n",
              "6     5.0                                      Handy   \n",
              "7     3.0                                        Meh   \n",
              "8     5.0  Great for at home use and so easy to use!   \n",
              "9     5.0                 Nice shampoo for the money   \n",
              "\n",
              "                                                text  \\\n",
              "0  This spray is really nice. It smells really go...   \n",
              "1  This product does what I need it to do, I just...   \n",
              "2                          Smells good, feels great!   \n",
              "3                                     Felt synthetic   \n",
              "4                                            Love it   \n",
              "5  The polish was quiet thick and did not apply s...   \n",
              "6  Great for many tasks.  I purchased these for m...   \n",
              "7  These were lightweight and soft but much too s...   \n",
              "8  This is perfect for my between salon visits. I...   \n",
              "9  I get Keratin treatments at the salon at least...   \n",
              "\n",
              "                                              images        asin parent_asin  \\\n",
              "0                                                 []  B00YQ6X8EO  B00YQ6X8EO   \n",
              "1                                                 []  B081TJ8YS3  B081TJ8YS3   \n",
              "2                                                 []  B07PNNCSP9  B097R46CSY   \n",
              "3                                                 []  B09JS339BZ  B09JS339BZ   \n",
              "4                                                 []  B08BZ63GMJ  B08BZ63GMJ   \n",
              "5  [{'attachment_type': 'IMAGE', 'large_image_url...  B00R8DXL44  B00R8DXL44   \n",
              "6                                                 []  B099DRHW5V  B099DRHW5V   \n",
              "7  [{'attachment_type': 'IMAGE', 'large_image_url...  B088SZDGXG  B08BBQ29N5   \n",
              "8                                                 []  B08P2DZB4X  B08P2DZB4X   \n",
              "9                                                 []  B086QY6T7N  B086QY6T7N   \n",
              "\n",
              "                        user_id      timestamp  helpful_vote  \\\n",
              "0  AGKHLEW2SOWHNMFQIJGBECAF7INQ  1588687728923             0   \n",
              "1  AGKHLEW2SOWHNMFQIJGBECAF7INQ  1588615855070             1   \n",
              "2  AE74DYR3QUGVPZJ3P7RFWBGIX7XQ  1589665266052             2   \n",
              "3  AFQLNQNQYFWQZPJQZS6V3NZU4QBQ  1643393630220             0   \n",
              "4  AFQLNQNQYFWQZPJQZS6V3NZU4QBQ  1609322563534             0   \n",
              "5  AGMJ3EMDVL6OWBJF7CA5RGJLXN5A  1598567408138             0   \n",
              "6  AHREXOGQPZDA6354MHH4ETSF3MCQ  1631885519443             0   \n",
              "7  AEYORY2AVPMCPDV57CE337YU5LXA  1634275259292             0   \n",
              "8  AFSKPY37N3C43SOI5IEXEK5JSIYA  1627391044559             0   \n",
              "9  AFSKPY37N3C43SOI5IEXEK5JSIYA  1626614511145             0   \n",
              "\n",
              "   verified_purchase  \n",
              "0               True  \n",
              "1               True  \n",
              "2               True  \n",
              "3               True  \n",
              "4               True  \n",
              "5               True  \n",
              "6               True  \n",
              "7               True  \n",
              "8              False  \n",
              "9              False  "
            ],
            "text/html": [
              "\n",
              "  <div id=\"df-21e72976-3b43-440c-b58f-78094b351d60\" class=\"colab-df-container\">\n",
              "    <div>\n",
              "<style scoped>\n",
              "    .dataframe tbody tr th:only-of-type {\n",
              "        vertical-align: middle;\n",
              "    }\n",
              "\n",
              "    .dataframe tbody tr th {\n",
              "        vertical-align: top;\n",
              "    }\n",
              "\n",
              "    .dataframe thead th {\n",
              "        text-align: right;\n",
              "    }\n",
              "</style>\n",
              "<table border=\"1\" class=\"dataframe\">\n",
              "  <thead>\n",
              "    <tr style=\"text-align: right;\">\n",
              "      <th></th>\n",
              "      <th>rating</th>\n",
              "      <th>title</th>\n",
              "      <th>text</th>\n",
              "      <th>images</th>\n",
              "      <th>asin</th>\n",
              "      <th>parent_asin</th>\n",
              "      <th>user_id</th>\n",
              "      <th>timestamp</th>\n",
              "      <th>helpful_vote</th>\n",
              "      <th>verified_purchase</th>\n",
              "    </tr>\n",
              "  </thead>\n",
              "  <tbody>\n",
              "    <tr>\n",
              "      <th>0</th>\n",
              "      <td>5.0</td>\n",
              "      <td>Such a lovely scent but not overpowering.</td>\n",
              "      <td>This spray is really nice. It smells really go...</td>\n",
              "      <td>[]</td>\n",
              "      <td>B00YQ6X8EO</td>\n",
              "      <td>B00YQ6X8EO</td>\n",
              "      <td>AGKHLEW2SOWHNMFQIJGBECAF7INQ</td>\n",
              "      <td>1588687728923</td>\n",
              "      <td>0</td>\n",
              "      <td>True</td>\n",
              "    </tr>\n",
              "    <tr>\n",
              "      <th>1</th>\n",
              "      <td>4.0</td>\n",
              "      <td>Works great but smells a little weird.</td>\n",
              "      <td>This product does what I need it to do, I just...</td>\n",
              "      <td>[]</td>\n",
              "      <td>B081TJ8YS3</td>\n",
              "      <td>B081TJ8YS3</td>\n",
              "      <td>AGKHLEW2SOWHNMFQIJGBECAF7INQ</td>\n",
              "      <td>1588615855070</td>\n",
              "      <td>1</td>\n",
              "      <td>True</td>\n",
              "    </tr>\n",
              "    <tr>\n",
              "      <th>2</th>\n",
              "      <td>5.0</td>\n",
              "      <td>Yes!</td>\n",
              "      <td>Smells good, feels great!</td>\n",
              "      <td>[]</td>\n",
              "      <td>B07PNNCSP9</td>\n",
              "      <td>B097R46CSY</td>\n",
              "      <td>AE74DYR3QUGVPZJ3P7RFWBGIX7XQ</td>\n",
              "      <td>1589665266052</td>\n",
              "      <td>2</td>\n",
              "      <td>True</td>\n",
              "    </tr>\n",
              "    <tr>\n",
              "      <th>3</th>\n",
              "      <td>1.0</td>\n",
              "      <td>Synthetic feeling</td>\n",
              "      <td>Felt synthetic</td>\n",
              "      <td>[]</td>\n",
              "      <td>B09JS339BZ</td>\n",
              "      <td>B09JS339BZ</td>\n",
              "      <td>AFQLNQNQYFWQZPJQZS6V3NZU4QBQ</td>\n",
              "      <td>1643393630220</td>\n",
              "      <td>0</td>\n",
              "      <td>True</td>\n",
              "    </tr>\n",
              "    <tr>\n",
              "      <th>4</th>\n",
              "      <td>5.0</td>\n",
              "      <td>A+</td>\n",
              "      <td>Love it</td>\n",
              "      <td>[]</td>\n",
              "      <td>B08BZ63GMJ</td>\n",
              "      <td>B08BZ63GMJ</td>\n",
              "      <td>AFQLNQNQYFWQZPJQZS6V3NZU4QBQ</td>\n",
              "      <td>1609322563534</td>\n",
              "      <td>0</td>\n",
              "      <td>True</td>\n",
              "    </tr>\n",
              "    <tr>\n",
              "      <th>5</th>\n",
              "      <td>4.0</td>\n",
              "      <td>Pretty Color</td>\n",
              "      <td>The polish was quiet thick and did not apply s...</td>\n",
              "      <td>[{'attachment_type': 'IMAGE', 'large_image_url...</td>\n",
              "      <td>B00R8DXL44</td>\n",
              "      <td>B00R8DXL44</td>\n",
              "      <td>AGMJ3EMDVL6OWBJF7CA5RGJLXN5A</td>\n",
              "      <td>1598567408138</td>\n",
              "      <td>0</td>\n",
              "      <td>True</td>\n",
              "    </tr>\n",
              "    <tr>\n",
              "      <th>6</th>\n",
              "      <td>5.0</td>\n",
              "      <td>Handy</td>\n",
              "      <td>Great for many tasks.  I purchased these for m...</td>\n",
              "      <td>[]</td>\n",
              "      <td>B099DRHW5V</td>\n",
              "      <td>B099DRHW5V</td>\n",
              "      <td>AHREXOGQPZDA6354MHH4ETSF3MCQ</td>\n",
              "      <td>1631885519443</td>\n",
              "      <td>0</td>\n",
              "      <td>True</td>\n",
              "    </tr>\n",
              "    <tr>\n",
              "      <th>7</th>\n",
              "      <td>3.0</td>\n",
              "      <td>Meh</td>\n",
              "      <td>These were lightweight and soft but much too s...</td>\n",
              "      <td>[{'attachment_type': 'IMAGE', 'large_image_url...</td>\n",
              "      <td>B088SZDGXG</td>\n",
              "      <td>B08BBQ29N5</td>\n",
              "      <td>AEYORY2AVPMCPDV57CE337YU5LXA</td>\n",
              "      <td>1634275259292</td>\n",
              "      <td>0</td>\n",
              "      <td>True</td>\n",
              "    </tr>\n",
              "    <tr>\n",
              "      <th>8</th>\n",
              "      <td>5.0</td>\n",
              "      <td>Great for at home use and so easy to use!</td>\n",
              "      <td>This is perfect for my between salon visits. I...</td>\n",
              "      <td>[]</td>\n",
              "      <td>B08P2DZB4X</td>\n",
              "      <td>B08P2DZB4X</td>\n",
              "      <td>AFSKPY37N3C43SOI5IEXEK5JSIYA</td>\n",
              "      <td>1627391044559</td>\n",
              "      <td>0</td>\n",
              "      <td>False</td>\n",
              "    </tr>\n",
              "    <tr>\n",
              "      <th>9</th>\n",
              "      <td>5.0</td>\n",
              "      <td>Nice shampoo for the money</td>\n",
              "      <td>I get Keratin treatments at the salon at least...</td>\n",
              "      <td>[]</td>\n",
              "      <td>B086QY6T7N</td>\n",
              "      <td>B086QY6T7N</td>\n",
              "      <td>AFSKPY37N3C43SOI5IEXEK5JSIYA</td>\n",
              "      <td>1626614511145</td>\n",
              "      <td>0</td>\n",
              "      <td>False</td>\n",
              "    </tr>\n",
              "  </tbody>\n",
              "</table>\n",
              "</div>\n",
              "    <div class=\"colab-df-buttons\">\n",
              "\n",
              "  <div class=\"colab-df-container\">\n",
              "    <button class=\"colab-df-convert\" onclick=\"convertToInteractive('df-21e72976-3b43-440c-b58f-78094b351d60')\"\n",
              "            title=\"Convert this dataframe to an interactive table.\"\n",
              "            style=\"display:none;\">\n",
              "\n",
              "  <svg xmlns=\"http://www.w3.org/2000/svg\" height=\"24px\" viewBox=\"0 -960 960 960\">\n",
              "    <path d=\"M120-120v-720h720v720H120Zm60-500h600v-160H180v160Zm220 220h160v-160H400v160Zm0 220h160v-160H400v160ZM180-400h160v-160H180v160Zm440 0h160v-160H620v160ZM180-180h160v-160H180v160Zm440 0h160v-160H620v160Z\"/>\n",
              "  </svg>\n",
              "    </button>\n",
              "\n",
              "  <style>\n",
              "    .colab-df-container {\n",
              "      display:flex;\n",
              "      gap: 12px;\n",
              "    }\n",
              "\n",
              "    .colab-df-convert {\n",
              "      background-color: #E8F0FE;\n",
              "      border: none;\n",
              "      border-radius: 50%;\n",
              "      cursor: pointer;\n",
              "      display: none;\n",
              "      fill: #1967D2;\n",
              "      height: 32px;\n",
              "      padding: 0 0 0 0;\n",
              "      width: 32px;\n",
              "    }\n",
              "\n",
              "    .colab-df-convert:hover {\n",
              "      background-color: #E2EBFA;\n",
              "      box-shadow: 0px 1px 2px rgba(60, 64, 67, 0.3), 0px 1px 3px 1px rgba(60, 64, 67, 0.15);\n",
              "      fill: #174EA6;\n",
              "    }\n",
              "\n",
              "    .colab-df-buttons div {\n",
              "      margin-bottom: 4px;\n",
              "    }\n",
              "\n",
              "    [theme=dark] .colab-df-convert {\n",
              "      background-color: #3B4455;\n",
              "      fill: #D2E3FC;\n",
              "    }\n",
              "\n",
              "    [theme=dark] .colab-df-convert:hover {\n",
              "      background-color: #434B5C;\n",
              "      box-shadow: 0px 1px 3px 1px rgba(0, 0, 0, 0.15);\n",
              "      filter: drop-shadow(0px 1px 2px rgba(0, 0, 0, 0.3));\n",
              "      fill: #FFFFFF;\n",
              "    }\n",
              "  </style>\n",
              "\n",
              "    <script>\n",
              "      const buttonEl =\n",
              "        document.querySelector('#df-21e72976-3b43-440c-b58f-78094b351d60 button.colab-df-convert');\n",
              "      buttonEl.style.display =\n",
              "        google.colab.kernel.accessAllowed ? 'block' : 'none';\n",
              "\n",
              "      async function convertToInteractive(key) {\n",
              "        const element = document.querySelector('#df-21e72976-3b43-440c-b58f-78094b351d60');\n",
              "        const dataTable =\n",
              "          await google.colab.kernel.invokeFunction('convertToInteractive',\n",
              "                                                    [key], {});\n",
              "        if (!dataTable) return;\n",
              "\n",
              "        const docLinkHtml = 'Like what you see? Visit the ' +\n",
              "          '<a target=\"_blank\" href=https://colab.research.google.com/notebooks/data_table.ipynb>data table notebook</a>'\n",
              "          + ' to learn more about interactive tables.';\n",
              "        element.innerHTML = '';\n",
              "        dataTable['output_type'] = 'display_data';\n",
              "        await google.colab.output.renderOutput(dataTable, element);\n",
              "        const docLink = document.createElement('div');\n",
              "        docLink.innerHTML = docLinkHtml;\n",
              "        element.appendChild(docLink);\n",
              "      }\n",
              "    </script>\n",
              "  </div>\n",
              "\n",
              "\n",
              "<div id=\"df-a18b0ad9-28ae-4ab9-8a20-25ae187c3a2d\">\n",
              "  <button class=\"colab-df-quickchart\" onclick=\"quickchart('df-a18b0ad9-28ae-4ab9-8a20-25ae187c3a2d')\"\n",
              "            title=\"Suggest charts\"\n",
              "            style=\"display:none;\">\n",
              "\n",
              "<svg xmlns=\"http://www.w3.org/2000/svg\" height=\"24px\"viewBox=\"0 0 24 24\"\n",
              "     width=\"24px\">\n",
              "    <g>\n",
              "        <path d=\"M19 3H5c-1.1 0-2 .9-2 2v14c0 1.1.9 2 2 2h14c1.1 0 2-.9 2-2V5c0-1.1-.9-2-2-2zM9 17H7v-7h2v7zm4 0h-2V7h2v10zm4 0h-2v-4h2v4z\"/>\n",
              "    </g>\n",
              "</svg>\n",
              "  </button>\n",
              "\n",
              "<style>\n",
              "  .colab-df-quickchart {\n",
              "      --bg-color: #E8F0FE;\n",
              "      --fill-color: #1967D2;\n",
              "      --hover-bg-color: #E2EBFA;\n",
              "      --hover-fill-color: #174EA6;\n",
              "      --disabled-fill-color: #AAA;\n",
              "      --disabled-bg-color: #DDD;\n",
              "  }\n",
              "\n",
              "  [theme=dark] .colab-df-quickchart {\n",
              "      --bg-color: #3B4455;\n",
              "      --fill-color: #D2E3FC;\n",
              "      --hover-bg-color: #434B5C;\n",
              "      --hover-fill-color: #FFFFFF;\n",
              "      --disabled-bg-color: #3B4455;\n",
              "      --disabled-fill-color: #666;\n",
              "  }\n",
              "\n",
              "  .colab-df-quickchart {\n",
              "    background-color: var(--bg-color);\n",
              "    border: none;\n",
              "    border-radius: 50%;\n",
              "    cursor: pointer;\n",
              "    display: none;\n",
              "    fill: var(--fill-color);\n",
              "    height: 32px;\n",
              "    padding: 0;\n",
              "    width: 32px;\n",
              "  }\n",
              "\n",
              "  .colab-df-quickchart:hover {\n",
              "    background-color: var(--hover-bg-color);\n",
              "    box-shadow: 0 1px 2px rgba(60, 64, 67, 0.3), 0 1px 3px 1px rgba(60, 64, 67, 0.15);\n",
              "    fill: var(--button-hover-fill-color);\n",
              "  }\n",
              "\n",
              "  .colab-df-quickchart-complete:disabled,\n",
              "  .colab-df-quickchart-complete:disabled:hover {\n",
              "    background-color: var(--disabled-bg-color);\n",
              "    fill: var(--disabled-fill-color);\n",
              "    box-shadow: none;\n",
              "  }\n",
              "\n",
              "  .colab-df-spinner {\n",
              "    border: 2px solid var(--fill-color);\n",
              "    border-color: transparent;\n",
              "    border-bottom-color: var(--fill-color);\n",
              "    animation:\n",
              "      spin 1s steps(1) infinite;\n",
              "  }\n",
              "\n",
              "  @keyframes spin {\n",
              "    0% {\n",
              "      border-color: transparent;\n",
              "      border-bottom-color: var(--fill-color);\n",
              "      border-left-color: var(--fill-color);\n",
              "    }\n",
              "    20% {\n",
              "      border-color: transparent;\n",
              "      border-left-color: var(--fill-color);\n",
              "      border-top-color: var(--fill-color);\n",
              "    }\n",
              "    30% {\n",
              "      border-color: transparent;\n",
              "      border-left-color: var(--fill-color);\n",
              "      border-top-color: var(--fill-color);\n",
              "      border-right-color: var(--fill-color);\n",
              "    }\n",
              "    40% {\n",
              "      border-color: transparent;\n",
              "      border-right-color: var(--fill-color);\n",
              "      border-top-color: var(--fill-color);\n",
              "    }\n",
              "    60% {\n",
              "      border-color: transparent;\n",
              "      border-right-color: var(--fill-color);\n",
              "    }\n",
              "    80% {\n",
              "      border-color: transparent;\n",
              "      border-right-color: var(--fill-color);\n",
              "      border-bottom-color: var(--fill-color);\n",
              "    }\n",
              "    90% {\n",
              "      border-color: transparent;\n",
              "      border-bottom-color: var(--fill-color);\n",
              "    }\n",
              "  }\n",
              "</style>\n",
              "\n",
              "  <script>\n",
              "    async function quickchart(key) {\n",
              "      const quickchartButtonEl =\n",
              "        document.querySelector('#' + key + ' button');\n",
              "      quickchartButtonEl.disabled = true;  // To prevent multiple clicks.\n",
              "      quickchartButtonEl.classList.add('colab-df-spinner');\n",
              "      try {\n",
              "        const charts = await google.colab.kernel.invokeFunction(\n",
              "            'suggestCharts', [key], {});\n",
              "      } catch (error) {\n",
              "        console.error('Error during call to suggestCharts:', error);\n",
              "      }\n",
              "      quickchartButtonEl.classList.remove('colab-df-spinner');\n",
              "      quickchartButtonEl.classList.add('colab-df-quickchart-complete');\n",
              "    }\n",
              "    (() => {\n",
              "      let quickchartButtonEl =\n",
              "        document.querySelector('#df-a18b0ad9-28ae-4ab9-8a20-25ae187c3a2d button');\n",
              "      quickchartButtonEl.style.display =\n",
              "        google.colab.kernel.accessAllowed ? 'block' : 'none';\n",
              "    })();\n",
              "  </script>\n",
              "</div>\n",
              "\n",
              "    </div>\n",
              "  </div>\n"
            ],
            "application/vnd.google.colaboratory.intrinsic+json": {
              "type": "dataframe",
              "variable_name": "amazon_review_df"
            }
          },
          "metadata": {},
          "execution_count": 4
        }
      ],
      "source": [
        "amazon_review_df.head(10)"
      ]
    },
    {
      "cell_type": "code",
      "source": [
        "len(amazon_review_df)"
      ],
      "metadata": {
        "id": "KgYXQQTJBh1i",
        "outputId": "c8d43243-272c-4161-d580-de73cfb7e235",
        "colab": {
          "base_uri": "https://localhost:8080/"
        }
      },
      "execution_count": 5,
      "outputs": [
        {
          "output_type": "execute_result",
          "data": {
            "text/plain": [
              "6282844"
            ]
          },
          "metadata": {},
          "execution_count": 5
        }
      ]
    },
    {
      "cell_type": "code",
      "source": [
        "amazon_review_df.info()"
      ],
      "metadata": {
        "id": "W6FE7wFTBcWv",
        "outputId": "2fd74ed7-10f9-4339-96ed-a59bbcad91ae",
        "colab": {
          "base_uri": "https://localhost:8080/"
        }
      },
      "execution_count": 6,
      "outputs": [
        {
          "output_type": "stream",
          "name": "stdout",
          "text": [
            "<class 'pandas.core.frame.DataFrame'>\n",
            "RangeIndex: 6282844 entries, 0 to 6282843\n",
            "Data columns (total 10 columns):\n",
            " #   Column             Dtype  \n",
            "---  ------             -----  \n",
            " 0   rating             float64\n",
            " 1   title              object \n",
            " 2   text               object \n",
            " 3   images             object \n",
            " 4   asin               object \n",
            " 5   parent_asin        object \n",
            " 6   user_id            object \n",
            " 7   timestamp          int64  \n",
            " 8   helpful_vote       int64  \n",
            " 9   verified_purchase  bool   \n",
            "dtypes: bool(1), float64(1), int64(2), object(6)\n",
            "memory usage: 437.4+ MB\n"
          ]
        }
      ]
    },
    {
      "cell_type": "code",
      "execution_count": 7,
      "metadata": {
        "id": "QxUuWMTb-xzl"
      },
      "outputs": [],
      "source": [
        "amazon_review_df = amazon_review_df[[\"text\", \"rating\", \"timestamp\"]]"
      ]
    },
    {
      "cell_type": "code",
      "source": [
        "amazon_review_df.shape"
      ],
      "metadata": {
        "id": "hTKESyErBqX3",
        "outputId": "a65231c5-22d1-445b-8666-c49e57aea847",
        "colab": {
          "base_uri": "https://localhost:8080/"
        }
      },
      "execution_count": 8,
      "outputs": [
        {
          "output_type": "execute_result",
          "data": {
            "text/plain": [
              "(6282844, 3)"
            ]
          },
          "metadata": {},
          "execution_count": 8
        }
      ]
    },
    {
      "cell_type": "code",
      "source": [
        "amazon_review_df.isnull().sum()"
      ],
      "metadata": {
        "id": "NUffhpBtCzwq",
        "outputId": "544af8d6-77da-4c49-91c0-f57942da498e",
        "colab": {
          "base_uri": "https://localhost:8080/",
          "height": 178
        }
      },
      "execution_count": 9,
      "outputs": [
        {
          "output_type": "execute_result",
          "data": {
            "text/plain": [
              "text         1506\n",
              "rating          0\n",
              "timestamp       0\n",
              "dtype: int64"
            ],
            "text/html": [
              "<div>\n",
              "<style scoped>\n",
              "    .dataframe tbody tr th:only-of-type {\n",
              "        vertical-align: middle;\n",
              "    }\n",
              "\n",
              "    .dataframe tbody tr th {\n",
              "        vertical-align: top;\n",
              "    }\n",
              "\n",
              "    .dataframe thead th {\n",
              "        text-align: right;\n",
              "    }\n",
              "</style>\n",
              "<table border=\"1\" class=\"dataframe\">\n",
              "  <thead>\n",
              "    <tr style=\"text-align: right;\">\n",
              "      <th></th>\n",
              "      <th>0</th>\n",
              "    </tr>\n",
              "  </thead>\n",
              "  <tbody>\n",
              "    <tr>\n",
              "      <th>text</th>\n",
              "      <td>1506</td>\n",
              "    </tr>\n",
              "    <tr>\n",
              "      <th>rating</th>\n",
              "      <td>0</td>\n",
              "    </tr>\n",
              "    <tr>\n",
              "      <th>timestamp</th>\n",
              "      <td>0</td>\n",
              "    </tr>\n",
              "  </tbody>\n",
              "</table>\n",
              "</div><br><label><b>dtype:</b> int64</label>"
            ]
          },
          "metadata": {},
          "execution_count": 9
        }
      ]
    },
    {
      "cell_type": "markdown",
      "metadata": {
        "id": "UYONAu1k-xzl"
      },
      "source": [
        "### Pre-processing the dataset"
      ]
    },
    {
      "cell_type": "code",
      "execution_count": 10,
      "metadata": {
        "id": "XmqqUpF8-xzm",
        "outputId": "eeadc1bc-ba7e-47a9-c03a-11e687cb7953",
        "colab": {
          "base_uri": "https://localhost:8080/",
          "height": 193
        }
      },
      "outputs": [
        {
          "output_type": "error",
          "ename": "NameError",
          "evalue": "name 'amazon_reviews_df' is not defined",
          "traceback": [
            "\u001b[0;31m---------------------------------------------------------------------------\u001b[0m",
            "\u001b[0;31mNameError\u001b[0m                                 Traceback (most recent call last)",
            "\u001b[0;32m<ipython-input-10-c5fda2c7d079>\u001b[0m in \u001b[0;36m<cell line: 2>\u001b[0;34m()\u001b[0m\n\u001b[1;32m      1\u001b[0m \u001b[0;31m#keeping rating as the class variable and text as the attribute to train the model\u001b[0m\u001b[0;34m\u001b[0m\u001b[0;34m\u001b[0m\u001b[0m\n\u001b[0;32m----> 2\u001b[0;31m \u001b[0mamazon_review_df\u001b[0m \u001b[0;34m=\u001b[0m \u001b[0mamazon_reviews_df\u001b[0m\u001b[0;34m[\u001b[0m\u001b[0mamazon_reviews_df\u001b[0m\u001b[0;34m[\u001b[0m\u001b[0;34m'text'\u001b[0m\u001b[0;34m]\u001b[0m\u001b[0;34m.\u001b[0m\u001b[0mnotna\u001b[0m\u001b[0;34m(\u001b[0m\u001b[0;34m)\u001b[0m \u001b[0;34m&\u001b[0m \u001b[0;34m(\u001b[0m\u001b[0mamazon_reviews_df\u001b[0m\u001b[0;34m[\u001b[0m\u001b[0;34m'text'\u001b[0m\u001b[0;34m]\u001b[0m\u001b[0;34m.\u001b[0m\u001b[0mstr\u001b[0m\u001b[0;34m.\u001b[0m\u001b[0mlen\u001b[0m\u001b[0;34m(\u001b[0m\u001b[0;34m)\u001b[0m \u001b[0;34m>\u001b[0m \u001b[0;36m0\u001b[0m\u001b[0;34m)\u001b[0m\u001b[0;34m]\u001b[0m\u001b[0;34m\u001b[0m\u001b[0;34m\u001b[0m\u001b[0m\n\u001b[0m",
            "\u001b[0;31mNameError\u001b[0m: name 'amazon_reviews_df' is not defined"
          ]
        }
      ],
      "source": [
        "#keeping rating as the class variable and text as the attribute to train the model\n",
        "amazon_review_df = amazon_review_df[amazon_review_df['text'].notna() & (amazon_review_df['text'].str.len() > 0)]\n"
      ]
    },
    {
      "cell_type": "code",
      "execution_count": null,
      "metadata": {
        "id": "4-uK3L9e-xzm"
      },
      "outputs": [],
      "source": [
        "#Adjusting the class variable to be ethier, 0(negative), 1 (neutral), 2(positive)\n",
        "amazon_review_df[\"rating\"] = amazon_review_df['rating'].apply(lambda x: 0 if x <= 2 else x)\n",
        "\n",
        "amazon_review_df[\"rating\"] = amazon_review_df['rating'].apply(lambda x: 1 if x >= 4 else x)"
      ]
    },
    {
      "cell_type": "code",
      "execution_count": null,
      "metadata": {
        "id": "Fq6Ime5G-xzn",
        "outputId": "56440ce9-26ef-4f1c-b422-4afc0d86dd7f"
      },
      "outputs": [
        {
          "data": {
            "image/png": "[encoded data removed]",
            "text/plain": [
              "<Figure size 640x480 with 1 Axes>"
            ]
          },
          "metadata": {},
          "output_type": "display_data"
        }
      ],
      "source": [
        "#Historgam for distribution of class variable\n",
        "amazon_review_df['rating'].value_counts().plot(kind='bar')\n",
        "plt.title('Distribution of Rating')\n",
        "plt.xlabel('Rating Classes')\n",
        "plt.ylabel('Number of reviews')\n",
        "plt.show()"
      ]
    },
    {
      "cell_type": "code",
      "execution_count": null,
      "metadata": {
        "id": "5tq6exRg-xzn"
      },
      "outputs": [],
      "source": [
        "min_target_class_value = amazon_review_df['rating'].value_counts().min()\n",
        "undersampled_classes = []\n",
        "for class_value in amazon_review_df['rating'].unique():\n",
        "    class_subset = amazon_review_df[amazon_review_df['rating'] == class_value]\n",
        "    undersampled_subset = class_subset.sample(n=min_target_class_value, random_state=42)\n",
        "    undersampled_classes.append(undersampled_subset)\n",
        "\n",
        "amazon_review_df = pd.concat(undersampled_classes)\n",
        "\n",
        "amazon_review_df = amazon_review_df.sample(frac=1, random_state=42).reset_index(drop=True)\n"
      ]
    },
    {
      "cell_type": "code",
      "execution_count": null,
      "metadata": {
        "id": "W5U1d8KJ-xzn",
        "outputId": "068fb178-1307-4d94-f6a8-950cb9da8ebb"
      },
      "outputs": [
        {
          "data": {
            "image/png": "[encoded data removed]",
            "text/plain": [
              "<Figure size 640x480 with 1 Axes>"
            ]
          },
          "metadata": {},
          "output_type": "display_data"
        }
      ],
      "source": [
        "#Historgam for distribution of class variable\n",
        "amazon_review_df['rating'].value_counts().plot(kind='bar')\n",
        "plt.title('Distribution of Rating')\n",
        "plt.xlabel('Rating Classes')\n",
        "plt.ylabel('Number of reviews')\n",
        "plt.show()"
      ]
    },
    {
      "cell_type": "code",
      "execution_count": null,
      "metadata": {
        "id": "d1PBTrd6-xzn"
      },
      "outputs": [],
      "source": [
        "#Lowering all cases\n",
        "amazon_review_df[\"text\"] = amazon_review_df[\"text\"].str.lower()"
      ]
    },
    {
      "cell_type": "code",
      "execution_count": null,
      "metadata": {
        "id": "adJj07Ds-xzo"
      },
      "outputs": [],
      "source": [
        "#removoval of puntuation\n",
        "def remove_puntuation(text):\n",
        "    return text.translate(str.maketrans('', '', string.punctuation))\n",
        "amazon_review_df[\"text\"] = amazon_review_df[\"text\"].apply(remove_puntuation)"
      ]
    },
    {
      "cell_type": "code",
      "execution_count": null,
      "metadata": {
        "id": "A6lSTBDp-xzo",
        "outputId": "55b0bc72-3c72-4cdf-92a4-f43b1ad11baf"
      },
      "outputs": [
        {
          "name": "stderr",
          "output_type": "stream",
          "text": [
            "[nltk_data] Downloading package stopwords to\n",
            "[nltk_data]     C:\\Users\\jenso\\AppData\\Roaming\\nltk_data...\n",
            "[nltk_data]   Package stopwords is already up-to-date!\n"
          ]
        }
      ],
      "source": [
        "nltk.download('stopwords')\n",
        "stop_words= set(stopwords.words(\"english\"))\n",
        "def remove_stopwords(text):\n",
        "    return \" \".join([word for word in text.split() if word not in stop_words])\n",
        "amazon_review_df[\"text\"] = amazon_review_df[\"text\"].apply(remove_stopwords)"
      ]
    },
    {
      "cell_type": "code",
      "execution_count": null,
      "metadata": {
        "id": "PNWdbW59-xzo"
      },
      "outputs": [],
      "source": [
        "def remove_special_characters(text):\n",
        "    text = re.sub('[^a-zA-Z0-9]', ' ', text)\n",
        "    text = re.sub('/s', ' ', text)\n",
        "    return text\n",
        "amazon_review_df[\"text\"] = amazon_review_df[\"text\"].apply(remove_special_characters)"
      ]
    },
    {
      "cell_type": "code",
      "execution_count": null,
      "metadata": {
        "id": "SM5Nzeux-xzo"
      },
      "outputs": [],
      "source": [
        "lemmatizer = nltk.stem.WordNetLemmatizer()\n",
        "def lemmatize_text(text):\n",
        "    return \" \".join([lemmatizer.lemmatize(word) for word in text.split()])\n",
        "amazon_review_df['text'] = amazon_review_df['text'].apply(lemmatize_text)\n",
        "\n",
        "#playing -> play"
      ]
    },
    {
      "cell_type": "code",
      "execution_count": null,
      "metadata": {
        "id": "YM20fDAu-xzo",
        "outputId": "9926502b-c36e-493d-ddc3-42431857c8d4"
      },
      "outputs": [
        {
          "data": {
            "text/html": [
              "<div>\n",
              "<style scoped>\n",
              "    .dataframe tbody tr th:only-of-type {\n",
              "        vertical-align: middle;\n",
              "    }\n",
              "\n",
              "    .dataframe tbody tr th {\n",
              "        vertical-align: top;\n",
              "    }\n",
              "\n",
              "    .dataframe thead th {\n",
              "        text-align: right;\n",
              "    }\n",
              "</style>\n",
              "<table border=\"1\" class=\"dataframe\">\n",
              "  <thead>\n",
              "    <tr style=\"text-align: right;\">\n",
              "      <th></th>\n",
              "      <th>text</th>\n",
              "      <th>rating</th>\n",
              "    </tr>\n",
              "  </thead>\n",
              "  <tbody>\n",
              "    <tr>\n",
              "      <th>0</th>\n",
              "      <td>ok really exciting</td>\n",
              "      <td>0.0</td>\n",
              "    </tr>\n",
              "    <tr>\n",
              "      <th>1</th>\n",
              "      <td>ok read review buying knew getting remembered ...</td>\n",
              "      <td>0.0</td>\n",
              "    </tr>\n",
              "    <tr>\n",
              "      <th>2</th>\n",
              "      <td>different language sale america sum country di...</td>\n",
              "      <td>-1.0</td>\n",
              "    </tr>\n",
              "    <tr>\n",
              "      <th>3</th>\n",
              "      <td>film carry surgeon general warning watching 5 ...</td>\n",
              "      <td>-1.0</td>\n",
              "    </tr>\n",
              "    <tr>\n",
              "      <th>4</th>\n",
              "      <td>almost good book arrived promptly play well pr...</td>\n",
              "      <td>1.0</td>\n",
              "    </tr>\n",
              "    <tr>\n",
              "      <th>5</th>\n",
              "      <td>exactly expected like tearjerker dont care tim...</td>\n",
              "      <td>-1.0</td>\n",
              "    </tr>\n",
              "    <tr>\n",
              "      <th>6</th>\n",
              "      <td>awful greatjust decent</td>\n",
              "      <td>0.0</td>\n",
              "    </tr>\n",
              "    <tr>\n",
              "      <th>7</th>\n",
              "      <td>quota christmas carolquot recast yet one bette...</td>\n",
              "      <td>0.0</td>\n",
              "    </tr>\n",
              "    <tr>\n",
              "      <th>8</th>\n",
              "      <td>great movie johnny depp awesome</td>\n",
              "      <td>1.0</td>\n",
              "    </tr>\n",
              "    <tr>\n",
              "      <th>9</th>\n",
              "      <td>okay realistic believable way wouldnt pay watch</td>\n",
              "      <td>0.0</td>\n",
              "    </tr>\n",
              "  </tbody>\n",
              "</table>\n",
              "</div>"
            ],
            "text/plain": [
              "                                                text  rating\n",
              "0                                 ok really exciting     0.0\n",
              "1  ok read review buying knew getting remembered ...     0.0\n",
              "2  different language sale america sum country di...    -1.0\n",
              "3  film carry surgeon general warning watching 5 ...    -1.0\n",
              "4  almost good book arrived promptly play well pr...     1.0\n",
              "5  exactly expected like tearjerker dont care tim...    -1.0\n",
              "6                             awful greatjust decent     0.0\n",
              "7  quota christmas carolquot recast yet one bette...     0.0\n",
              "8                    great movie johnny depp awesome     1.0\n",
              "9    okay realistic believable way wouldnt pay watch     0.0"
            ]
          },
          "execution_count": 15,
          "metadata": {},
          "output_type": "execute_result"
        }
      ],
      "source": [
        "amazon_review_df.head(10)"
      ]
    },
    {
      "cell_type": "code",
      "execution_count": null,
      "metadata": {
        "id": "vL_YoKyF-xzo"
      },
      "outputs": [],
      "source": [
        "amazon_review_df['text'] = [simple_preprocess(line, deacc=True) for line in amazon_review_df['text']]  # tokenization"
      ]
    },
    {
      "cell_type": "code",
      "execution_count": null,
      "metadata": {
        "id": "7F8LvheV-xzo",
        "outputId": "88480299-48e1-494a-d172-4ec4a10fe0cd"
      },
      "outputs": [
        {
          "data": {
            "text/html": [
              "<div>\n",
              "<style scoped>\n",
              "    .dataframe tbody tr th:only-of-type {\n",
              "        vertical-align: middle;\n",
              "    }\n",
              "\n",
              "    .dataframe tbody tr th {\n",
              "        vertical-align: top;\n",
              "    }\n",
              "\n",
              "    .dataframe thead th {\n",
              "        text-align: right;\n",
              "    }\n",
              "</style>\n",
              "<table border=\"1\" class=\"dataframe\">\n",
              "  <thead>\n",
              "    <tr style=\"text-align: right;\">\n",
              "      <th></th>\n",
              "      <th>text</th>\n",
              "      <th>rating</th>\n",
              "    </tr>\n",
              "  </thead>\n",
              "  <tbody>\n",
              "    <tr>\n",
              "      <th>0</th>\n",
              "      <td>[ok, really, exciting]</td>\n",
              "      <td>0.0</td>\n",
              "    </tr>\n",
              "    <tr>\n",
              "      <th>1</th>\n",
              "      <td>[ok, read, review, buying, knew, getting, reme...</td>\n",
              "      <td>0.0</td>\n",
              "    </tr>\n",
              "    <tr>\n",
              "      <th>2</th>\n",
              "      <td>[different, language, sale, america, sum, coun...</td>\n",
              "      <td>-1.0</td>\n",
              "    </tr>\n",
              "    <tr>\n",
              "      <th>3</th>\n",
              "      <td>[film, carry, surgeon, general, warning, watch...</td>\n",
              "      <td>-1.0</td>\n",
              "    </tr>\n",
              "    <tr>\n",
              "      <th>4</th>\n",
              "      <td>[almost, good, book, arrived, promptly, play, ...</td>\n",
              "      <td>1.0</td>\n",
              "    </tr>\n",
              "    <tr>\n",
              "      <th>...</th>\n",
              "      <td>...</td>\n",
              "      <td>...</td>\n",
              "    </tr>\n",
              "    <tr>\n",
              "      <th>266782</th>\n",
              "      <td>[show, got, kind, gross, towards, end, set, st...</td>\n",
              "      <td>0.0</td>\n",
              "    </tr>\n",
              "    <tr>\n",
              "      <th>266783</th>\n",
              "      <td>[cant, watch, grade, movie, thats, pitch, dark...</td>\n",
              "      <td>-1.0</td>\n",
              "    </tr>\n",
              "    <tr>\n",
              "      <th>266784</th>\n",
              "      <td>[modern, day, animal, house, far, crude, joke,...</td>\n",
              "      <td>0.0</td>\n",
              "    </tr>\n",
              "    <tr>\n",
              "      <th>266785</th>\n",
              "      <td>[provacative, movie, movie, photography, scenery]</td>\n",
              "      <td>0.0</td>\n",
              "    </tr>\n",
              "    <tr>\n",
              "      <th>266786</th>\n",
              "      <td>[variation, tv, big, screen, the, addams, fami...</td>\n",
              "      <td>0.0</td>\n",
              "    </tr>\n",
              "  </tbody>\n",
              "</table>\n",
              "<p>266787 rows × 2 columns</p>\n",
              "</div>"
            ],
            "text/plain": [
              "                                                     text  rating\n",
              "0                                  [ok, really, exciting]     0.0\n",
              "1       [ok, read, review, buying, knew, getting, reme...     0.0\n",
              "2       [different, language, sale, america, sum, coun...    -1.0\n",
              "3       [film, carry, surgeon, general, warning, watch...    -1.0\n",
              "4       [almost, good, book, arrived, promptly, play, ...     1.0\n",
              "...                                                   ...     ...\n",
              "266782  [show, got, kind, gross, towards, end, set, st...     0.0\n",
              "266783  [cant, watch, grade, movie, thats, pitch, dark...    -1.0\n",
              "266784  [modern, day, animal, house, far, crude, joke,...     0.0\n",
              "266785  [provacative, movie, movie, photography, scenery]     0.0\n",
              "266786  [variation, tv, big, screen, the, addams, fami...     0.0\n",
              "\n",
              "[266787 rows x 2 columns]"
            ]
          },
          "execution_count": 17,
          "metadata": {},
          "output_type": "execute_result"
        }
      ],
      "source": [
        "amazon_review_df"
      ]
    },
    {
      "cell_type": "code",
      "execution_count": null,
      "metadata": {
        "id": "VdSfh6yU-xzp"
      },
      "outputs": [],
      "source": [
        "model = Word2Vec(sentences=amazon_review_df['text'], vector_size=100, window=5, min_count=1, workers=4)\n",
        "model.save(\"word2vec_sentiment.model\")"
      ]
    },
    {
      "cell_type": "code",
      "execution_count": null,
      "metadata": {
        "id": "vJujRHvD-xzp"
      },
      "outputs": [],
      "source": [
        "def document_vector(doc):\n",
        "    # Remove out-of-vocabulary words\n",
        "    words = [word for word in doc if word in model.wv]\n",
        "    return np.mean(model.wv[words], axis=0) if words else np.zeros(model.vector_size)\n",
        "\n",
        "# Apply the function to create document vectors\n",
        "X = np.array([document_vector(doc) for doc in amazon_review_df['text']])\n",
        "y = amazon_review_df['rating'].values"
      ]
    },
    {
      "cell_type": "code",
      "execution_count": null,
      "metadata": {
        "id": "qEe5_vmN-xzp",
        "outputId": "f4e93001-f5a3-4b6b-fe69-6cc95b6c0380"
      },
      "outputs": [
        {
          "ename": "NameError",
          "evalue": "name 'train_test_split' is not defined",
          "output_type": "error",
          "traceback": [
            "\u001b[1;31m---------------------------------------------------------------------------\u001b[0m",
            "\u001b[1;31mNameError\u001b[0m                                 Traceback (most recent call last)",
            "Cell \u001b[1;32mIn[20], line 1\u001b[0m\n\u001b[1;32m----> 1\u001b[0m X_train, X_test, y_train, y_test \u001b[38;5;241m=\u001b[39m \u001b[43mtrain_test_split\u001b[49m(X, y, test_size\u001b[38;5;241m=\u001b[39m\u001b[38;5;241m0.2\u001b[39m, random_state\u001b[38;5;241m=\u001b[39m\u001b[38;5;241m42\u001b[39m)\n",
            "\u001b[1;31mNameError\u001b[0m: name 'train_test_split' is not defined"
          ]
        }
      ],
      "source": [
        "X_train, X_test, y_train, y_test = train_test_split(X, y, test_size=0.2, random_state=42)"
      ]
    }
  ],
  "metadata": {
    "kernelspec": {
      "display_name": "Python 3",
      "name": "python3"
    },
    "language_info": {
      "codemirror_mode": {
        "name": "ipython",
        "version": 3
      },
      "file_extension": ".py",
      "mimetype": "text/x-python",
      "name": "python",
      "nbconvert_exporter": "python",
      "pygments_lexer": "ipython3",
      "version": "3.12.6"
    },
    "colab": {
      "provenance": [],
      "machine_shape": "hm",
      "gpuType": "T4"
    },
    "accelerator": "GPU"
  },
  "nbformat": 4,
  "nbformat_minor": 0
}